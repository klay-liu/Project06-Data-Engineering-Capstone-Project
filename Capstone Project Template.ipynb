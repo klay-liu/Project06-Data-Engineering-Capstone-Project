{
 "cells": [
  {
   "cell_type": "markdown",
   "metadata": {
    "editable": true
   },
   "source": [
    "# Project Title\n",
    "### Data Engineering Capstone Project\n",
    "\n",
    "#### Project Summary\n",
    "\n",
    "With the globalization of the economy, international travel such as international travel, transnational business trips, and study abroad has become a very common phenomenon. \n",
    "Knowing the behavior of international travelers in the past, the climate and population of the destination and other data can provide international travelers with reference for smooth travel.\n",
    "\n",
    "Based on the Immigration data provided by the US National Tourism and Trade Office and U.S. City Demographic Data and Global City Temperature data, a Data Lake with Data Model and ETL and Data Pipeline created with Pyspark to provide usable data sources for analyzing the behavior of international travelers, the climate and demography of American cities.\n",
    "\n",
    "The project follows the follow steps:\n",
    "* Step 1: Scope the Project and Gather Data\n",
    "* Step 2: Explore and Assess the Data\n",
    "* Step 3: Define the Data Model\n",
    "* Step 4: Run ETL to Model the Data\n",
    "* Step 5: Complete Project Write Up"
   ]
  },
  {
   "cell_type": "code",
   "execution_count": 1,
   "metadata": {
    "editable": true
   },
   "outputs": [],
   "source": [
    "# Do all imports and installs here\n",
    "import pandas as pd\n",
    "pd.set_option('max_columns', 300)\n",
    "import matplotlib.pyplot as plt\n",
    "%matplotlib inline\n",
    "\n",
    "from pyspark.sql import SparkSession\n",
    "from pyspark.sql.functions import col, udf, date_format, year, month\n",
    "from pyspark.sql.types import *\n",
    "\n",
    "spark = SparkSession.builder.\\\n",
    "config(\"spark.jars.packages\",\"saurfang:spark-sas7bdat:2.0.0-s_2.11\")\\\n",
    ".enableHiveSupport().getOrCreate()"
   ]
  },
  {
   "cell_type": "markdown",
   "metadata": {
    "editable": true
   },
   "source": [
    "### Step 1: Scope the Project and Gather Data\n",
    "\n",
    "#### Scope \n",
    "\n",
    "Create a Data Lake with Star Schema data model for immigration analytics which includes ETL and Data Pipeline by using Pyspark. The final data for tables (fact and dimension tables) is stored as parquet files.\n",
    "\n",
    "#### Describe and Gather Data \n",
    "- I94 Immigration Data: This data comes from the US National Tourism and Trade Office which contains international visitor arrival statistics by world regions and select countries (including top 20), type of visa, mode of transportation, age groups, states visited (first intended address only), and the top ports of entry (for select countries)\n",
    "- World Temperature Data: This dataset came from Kaggle which contains Global Land Temperatures By City\n",
    "- U.S. City Demographic Data: This data comes from OpenSoft which contains information about the demographics of all US cities and census-designated places."
   ]
  },
  {
   "cell_type": "code",
   "execution_count": 2,
   "metadata": {
    "editable": true
   },
   "outputs": [],
   "source": [
    "# Load the I94 Immigration Data\n",
    "# immigration_spark = spark.read.format('com.github.saurfang.sas.spark').load('../../data/18-83510-I94-Data-2016/i94_apr16_sub.sas7bdat')\n",
    "immigration_spark = spark.read.parquet(\"sas_data\")\n",
    "# Load the World Temperature data\n",
    "temp_spark = spark.read.csv('../../data2/GlobalLandTemperaturesByCity.csv', header = True)\n",
    "# Load the us city demographics data\n",
    "demographics_spark = spark.read.csv('us-cities-demographics.csv', header = True, sep = ';')"
   ]
  },
  {
   "cell_type": "code",
   "execution_count": 3,
   "metadata": {
    "editable": true
   },
   "outputs": [],
   "source": [
    "# Load the code mapper data for country/state/port\n",
    "\n",
    "i94cit_res = spark.read.csv('./code_mapper/i94cit_res.csv', header = True)\n",
    "i94port = spark.read.csv('./code_mapper/i94port.csv', header = True)\n",
    "i94mode = spark.read.csv('./code_mapper/i94mode.csv', header = True)\n",
    "i94addr = spark.read.csv('./code_mapper/i94addr.csv', header = True)"
   ]
  },
  {
   "cell_type": "markdown",
   "metadata": {
    "editable": true
   },
   "source": [
    "### Step 2: Explore and Assess the Data\n",
    "#### Explore the Data \n",
    "Identify data quality issues, like missing values, duplicate data, etc."
   ]
  },
  {
   "cell_type": "markdown",
   "metadata": {
    "editable": true
   },
   "source": [
    "#### Immigration Data"
   ]
  },
  {
   "cell_type": "code",
   "execution_count": 4,
   "metadata": {
    "editable": true
   },
   "outputs": [
    {
     "data": {
      "text/html": [
       "<div>\n",
       "<style scoped>\n",
       "    .dataframe tbody tr th:only-of-type {\n",
       "        vertical-align: middle;\n",
       "    }\n",
       "\n",
       "    .dataframe tbody tr th {\n",
       "        vertical-align: top;\n",
       "    }\n",
       "\n",
       "    .dataframe thead th {\n",
       "        text-align: right;\n",
       "    }\n",
       "</style>\n",
       "<table border=\"1\" class=\"dataframe\">\n",
       "  <thead>\n",
       "    <tr style=\"text-align: right;\">\n",
       "      <th></th>\n",
       "      <th>cicid</th>\n",
       "      <th>i94yr</th>\n",
       "      <th>i94mon</th>\n",
       "      <th>i94cit</th>\n",
       "      <th>i94res</th>\n",
       "      <th>i94port</th>\n",
       "      <th>arrdate</th>\n",
       "      <th>i94mode</th>\n",
       "      <th>i94addr</th>\n",
       "      <th>depdate</th>\n",
       "      <th>i94bir</th>\n",
       "      <th>i94visa</th>\n",
       "      <th>count</th>\n",
       "      <th>dtadfile</th>\n",
       "      <th>visapost</th>\n",
       "      <th>occup</th>\n",
       "      <th>entdepa</th>\n",
       "      <th>entdepd</th>\n",
       "      <th>entdepu</th>\n",
       "      <th>matflag</th>\n",
       "      <th>biryear</th>\n",
       "      <th>dtaddto</th>\n",
       "      <th>gender</th>\n",
       "      <th>insnum</th>\n",
       "      <th>airline</th>\n",
       "      <th>admnum</th>\n",
       "      <th>fltno</th>\n",
       "      <th>visatype</th>\n",
       "    </tr>\n",
       "  </thead>\n",
       "  <tbody>\n",
       "    <tr>\n",
       "      <th>0</th>\n",
       "      <td>5748517.0</td>\n",
       "      <td>2016.0</td>\n",
       "      <td>4.0</td>\n",
       "      <td>245.0</td>\n",
       "      <td>438.0</td>\n",
       "      <td>LOS</td>\n",
       "      <td>20574.0</td>\n",
       "      <td>1.0</td>\n",
       "      <td>CA</td>\n",
       "      <td>20582.0</td>\n",
       "      <td>40.0</td>\n",
       "      <td>1.0</td>\n",
       "      <td>1.0</td>\n",
       "      <td>20160430</td>\n",
       "      <td>SYD</td>\n",
       "      <td>None</td>\n",
       "      <td>G</td>\n",
       "      <td>O</td>\n",
       "      <td>None</td>\n",
       "      <td>M</td>\n",
       "      <td>1976.0</td>\n",
       "      <td>10292016</td>\n",
       "      <td>F</td>\n",
       "      <td>None</td>\n",
       "      <td>QF</td>\n",
       "      <td>9.495387e+10</td>\n",
       "      <td>00011</td>\n",
       "      <td>B1</td>\n",
       "    </tr>\n",
       "    <tr>\n",
       "      <th>1</th>\n",
       "      <td>5748518.0</td>\n",
       "      <td>2016.0</td>\n",
       "      <td>4.0</td>\n",
       "      <td>245.0</td>\n",
       "      <td>438.0</td>\n",
       "      <td>LOS</td>\n",
       "      <td>20574.0</td>\n",
       "      <td>1.0</td>\n",
       "      <td>NV</td>\n",
       "      <td>20591.0</td>\n",
       "      <td>32.0</td>\n",
       "      <td>1.0</td>\n",
       "      <td>1.0</td>\n",
       "      <td>20160430</td>\n",
       "      <td>SYD</td>\n",
       "      <td>None</td>\n",
       "      <td>G</td>\n",
       "      <td>O</td>\n",
       "      <td>None</td>\n",
       "      <td>M</td>\n",
       "      <td>1984.0</td>\n",
       "      <td>10292016</td>\n",
       "      <td>F</td>\n",
       "      <td>None</td>\n",
       "      <td>VA</td>\n",
       "      <td>9.495562e+10</td>\n",
       "      <td>00007</td>\n",
       "      <td>B1</td>\n",
       "    </tr>\n",
       "    <tr>\n",
       "      <th>2</th>\n",
       "      <td>5748519.0</td>\n",
       "      <td>2016.0</td>\n",
       "      <td>4.0</td>\n",
       "      <td>245.0</td>\n",
       "      <td>438.0</td>\n",
       "      <td>LOS</td>\n",
       "      <td>20574.0</td>\n",
       "      <td>1.0</td>\n",
       "      <td>WA</td>\n",
       "      <td>20582.0</td>\n",
       "      <td>29.0</td>\n",
       "      <td>1.0</td>\n",
       "      <td>1.0</td>\n",
       "      <td>20160430</td>\n",
       "      <td>SYD</td>\n",
       "      <td>None</td>\n",
       "      <td>G</td>\n",
       "      <td>O</td>\n",
       "      <td>None</td>\n",
       "      <td>M</td>\n",
       "      <td>1987.0</td>\n",
       "      <td>10292016</td>\n",
       "      <td>M</td>\n",
       "      <td>None</td>\n",
       "      <td>DL</td>\n",
       "      <td>9.495641e+10</td>\n",
       "      <td>00040</td>\n",
       "      <td>B1</td>\n",
       "    </tr>\n",
       "    <tr>\n",
       "      <th>3</th>\n",
       "      <td>5748520.0</td>\n",
       "      <td>2016.0</td>\n",
       "      <td>4.0</td>\n",
       "      <td>245.0</td>\n",
       "      <td>438.0</td>\n",
       "      <td>LOS</td>\n",
       "      <td>20574.0</td>\n",
       "      <td>1.0</td>\n",
       "      <td>WA</td>\n",
       "      <td>20588.0</td>\n",
       "      <td>29.0</td>\n",
       "      <td>1.0</td>\n",
       "      <td>1.0</td>\n",
       "      <td>20160430</td>\n",
       "      <td>SYD</td>\n",
       "      <td>None</td>\n",
       "      <td>G</td>\n",
       "      <td>O</td>\n",
       "      <td>None</td>\n",
       "      <td>M</td>\n",
       "      <td>1987.0</td>\n",
       "      <td>10292016</td>\n",
       "      <td>F</td>\n",
       "      <td>None</td>\n",
       "      <td>DL</td>\n",
       "      <td>9.495645e+10</td>\n",
       "      <td>00040</td>\n",
       "      <td>B1</td>\n",
       "    </tr>\n",
       "    <tr>\n",
       "      <th>4</th>\n",
       "      <td>5748521.0</td>\n",
       "      <td>2016.0</td>\n",
       "      <td>4.0</td>\n",
       "      <td>245.0</td>\n",
       "      <td>438.0</td>\n",
       "      <td>LOS</td>\n",
       "      <td>20574.0</td>\n",
       "      <td>1.0</td>\n",
       "      <td>WA</td>\n",
       "      <td>20588.0</td>\n",
       "      <td>28.0</td>\n",
       "      <td>1.0</td>\n",
       "      <td>1.0</td>\n",
       "      <td>20160430</td>\n",
       "      <td>SYD</td>\n",
       "      <td>None</td>\n",
       "      <td>G</td>\n",
       "      <td>O</td>\n",
       "      <td>None</td>\n",
       "      <td>M</td>\n",
       "      <td>1988.0</td>\n",
       "      <td>10292016</td>\n",
       "      <td>M</td>\n",
       "      <td>None</td>\n",
       "      <td>DL</td>\n",
       "      <td>9.495639e+10</td>\n",
       "      <td>00040</td>\n",
       "      <td>B1</td>\n",
       "    </tr>\n",
       "  </tbody>\n",
       "</table>\n",
       "</div>"
      ],
      "text/plain": [
       "       cicid   i94yr  i94mon  i94cit  i94res i94port  arrdate  i94mode  \\\n",
       "0  5748517.0  2016.0     4.0   245.0   438.0     LOS  20574.0      1.0   \n",
       "1  5748518.0  2016.0     4.0   245.0   438.0     LOS  20574.0      1.0   \n",
       "2  5748519.0  2016.0     4.0   245.0   438.0     LOS  20574.0      1.0   \n",
       "3  5748520.0  2016.0     4.0   245.0   438.0     LOS  20574.0      1.0   \n",
       "4  5748521.0  2016.0     4.0   245.0   438.0     LOS  20574.0      1.0   \n",
       "\n",
       "  i94addr  depdate  i94bir  i94visa  count  dtadfile visapost occup entdepa  \\\n",
       "0      CA  20582.0    40.0      1.0    1.0  20160430      SYD  None       G   \n",
       "1      NV  20591.0    32.0      1.0    1.0  20160430      SYD  None       G   \n",
       "2      WA  20582.0    29.0      1.0    1.0  20160430      SYD  None       G   \n",
       "3      WA  20588.0    29.0      1.0    1.0  20160430      SYD  None       G   \n",
       "4      WA  20588.0    28.0      1.0    1.0  20160430      SYD  None       G   \n",
       "\n",
       "  entdepd entdepu matflag  biryear   dtaddto gender insnum airline  \\\n",
       "0       O    None       M   1976.0  10292016      F   None      QF   \n",
       "1       O    None       M   1984.0  10292016      F   None      VA   \n",
       "2       O    None       M   1987.0  10292016      M   None      DL   \n",
       "3       O    None       M   1987.0  10292016      F   None      DL   \n",
       "4       O    None       M   1988.0  10292016      M   None      DL   \n",
       "\n",
       "         admnum  fltno visatype  \n",
       "0  9.495387e+10  00011       B1  \n",
       "1  9.495562e+10  00007       B1  \n",
       "2  9.495641e+10  00040       B1  \n",
       "3  9.495645e+10  00040       B1  \n",
       "4  9.495639e+10  00040       B1  "
      ]
     },
     "execution_count": 4,
     "metadata": {},
     "output_type": "execute_result"
    }
   ],
   "source": [
    "immigration_spark.limit(5).toPandas()"
   ]
  },
  {
   "cell_type": "code",
   "execution_count": 5,
   "metadata": {
    "editable": true
   },
   "outputs": [],
   "source": [
    "# check the Null for all columns in Immigration Data\n",
    "def visualize_null(df, title=None):\n",
    "    \"\"\"\n",
    "    \n",
    "    \"\"\"\n",
    "    Null_Dict = {col:df.filter(df[col].isNull()).count() for col in df.columns}\n",
    "    keys = []\n",
    "    values = []\n",
    "    print('====Null count for fields ====\\n')\n",
    "    plt.figure(figsize=(20,10))\n",
    "    for k, v in Null_Dict.items():\n",
    "        if v != 0:\n",
    "            keys.append(k)\n",
    "            values.append(v)\n",
    "            print(k,':', v)\n",
    "    print('\\n=============================\\n')        \n",
    "    plt.bar(keys, values)\n",
    "    if title != None:\n",
    "        plt.title(title)\n"
   ]
  },
  {
   "cell_type": "code",
   "execution_count": 6,
   "metadata": {
    "editable": true
   },
   "outputs": [
    {
     "name": "stdout",
     "output_type": "stream",
     "text": [
      "====Null count for fields ====\n",
      "\n",
      "i94mode : 239\n",
      "i94addr : 152592\n",
      "depdate : 142457\n",
      "i94bir : 802\n",
      "dtadfile : 1\n",
      "visapost : 1881250\n",
      "occup : 3088187\n",
      "entdepa : 238\n",
      "entdepd : 138429\n",
      "entdepu : 3095921\n",
      "matflag : 138429\n",
      "biryear : 802\n",
      "dtaddto : 477\n",
      "gender : 414269\n",
      "insnum : 2982605\n",
      "airline : 83627\n",
      "fltno : 19549\n",
      "\n",
      "=============================\n",
      "\n"
     ]
    },
    {
     "data": {
      "image/png": "[encoded data removed]",
      "text/plain": [
       "<matplotlib.figure.Figure at 0x7f0cf52c6710>"
      ]
     },
     "metadata": {
      "needs_background": "light"
     },
     "output_type": "display_data"
    }
   ],
   "source": [
    "visualize_null(immigration_spark, title = 'Null Count for Immigration Dataset')"
   ]
  },
  {
   "cell_type": "code",
   "execution_count": 7,
   "metadata": {
    "editable": true
   },
   "outputs": [
    {
     "data": {
      "text/plain": [
       "(3096313, 3096313)"
      ]
     },
     "execution_count": 7,
     "metadata": {},
     "output_type": "execute_result"
    }
   ],
   "source": [
    "# check the duplicates for all columns in Immigration Data\n",
    "(immigration_spark.count(), immigration_spark.dropDuplicates().count())"
   ]
  },
  {
   "cell_type": "markdown",
   "metadata": {
    "editable": true
   },
   "source": [
    "immigration_spark = immigration_spark.select('cicid', \n",
    "                         'i94cit', \n",
    "                         'i94res', \n",
    "                         'i94port', \n",
    "                         'arrdate', 'i94mode', 'i94addr', 'depdate', \n",
    "                         'i94bir', \n",
    "                         'i94visa', 'gender', 'airline', 'admnum', 'fltno', 'visatype')\n",
    "immigration_spark.toPandas().head(5)"
   ]
  },
  {
   "cell_type": "markdown",
   "metadata": {
    "editable": true
   },
   "source": [
    "##### World Temperature Data"
   ]
  },
  {
   "cell_type": "code",
   "execution_count": 8,
   "metadata": {
    "editable": true
   },
   "outputs": [
    {
     "data": {
      "text/html": [
       "<div>\n",
       "<style scoped>\n",
       "    .dataframe tbody tr th:only-of-type {\n",
       "        vertical-align: middle;\n",
       "    }\n",
       "\n",
       "    .dataframe tbody tr th {\n",
       "        vertical-align: top;\n",
       "    }\n",
       "\n",
       "    .dataframe thead th {\n",
       "        text-align: right;\n",
       "    }\n",
       "</style>\n",
       "<table border=\"1\" class=\"dataframe\">\n",
       "  <thead>\n",
       "    <tr style=\"text-align: right;\">\n",
       "      <th></th>\n",
       "      <th>dt</th>\n",
       "      <th>AverageTemperature</th>\n",
       "      <th>AverageTemperatureUncertainty</th>\n",
       "      <th>City</th>\n",
       "      <th>Country</th>\n",
       "      <th>Latitude</th>\n",
       "      <th>Longitude</th>\n",
       "    </tr>\n",
       "  </thead>\n",
       "  <tbody>\n",
       "    <tr>\n",
       "      <th>0</th>\n",
       "      <td>1743-11-01</td>\n",
       "      <td>6.068</td>\n",
       "      <td>1.7369999999999999</td>\n",
       "      <td>Århus</td>\n",
       "      <td>Denmark</td>\n",
       "      <td>57.05N</td>\n",
       "      <td>10.33E</td>\n",
       "    </tr>\n",
       "    <tr>\n",
       "      <th>1</th>\n",
       "      <td>1743-12-01</td>\n",
       "      <td>None</td>\n",
       "      <td>None</td>\n",
       "      <td>Århus</td>\n",
       "      <td>Denmark</td>\n",
       "      <td>57.05N</td>\n",
       "      <td>10.33E</td>\n",
       "    </tr>\n",
       "    <tr>\n",
       "      <th>2</th>\n",
       "      <td>1744-01-01</td>\n",
       "      <td>None</td>\n",
       "      <td>None</td>\n",
       "      <td>Århus</td>\n",
       "      <td>Denmark</td>\n",
       "      <td>57.05N</td>\n",
       "      <td>10.33E</td>\n",
       "    </tr>\n",
       "    <tr>\n",
       "      <th>3</th>\n",
       "      <td>1744-02-01</td>\n",
       "      <td>None</td>\n",
       "      <td>None</td>\n",
       "      <td>Århus</td>\n",
       "      <td>Denmark</td>\n",
       "      <td>57.05N</td>\n",
       "      <td>10.33E</td>\n",
       "    </tr>\n",
       "    <tr>\n",
       "      <th>4</th>\n",
       "      <td>1744-03-01</td>\n",
       "      <td>None</td>\n",
       "      <td>None</td>\n",
       "      <td>Århus</td>\n",
       "      <td>Denmark</td>\n",
       "      <td>57.05N</td>\n",
       "      <td>10.33E</td>\n",
       "    </tr>\n",
       "  </tbody>\n",
       "</table>\n",
       "</div>"
      ],
      "text/plain": [
       "           dt AverageTemperature AverageTemperatureUncertainty   City  \\\n",
       "0  1743-11-01              6.068            1.7369999999999999  Århus   \n",
       "1  1743-12-01               None                          None  Århus   \n",
       "2  1744-01-01               None                          None  Århus   \n",
       "3  1744-02-01               None                          None  Århus   \n",
       "4  1744-03-01               None                          None  Århus   \n",
       "\n",
       "   Country Latitude Longitude  \n",
       "0  Denmark   57.05N    10.33E  \n",
       "1  Denmark   57.05N    10.33E  \n",
       "2  Denmark   57.05N    10.33E  \n",
       "3  Denmark   57.05N    10.33E  \n",
       "4  Denmark   57.05N    10.33E  "
      ]
     },
     "execution_count": 8,
     "metadata": {},
     "output_type": "execute_result"
    }
   ],
   "source": [
    "temp_spark.limit(5).toPandas()"
   ]
  },
  {
   "cell_type": "code",
   "execution_count": 9,
   "metadata": {
    "editable": true
   },
   "outputs": [
    {
     "data": {
      "text/plain": [
       "8599212"
      ]
     },
     "execution_count": 9,
     "metadata": {},
     "output_type": "execute_result"
    }
   ],
   "source": [
    "temp_spark.count()"
   ]
  },
  {
   "cell_type": "code",
   "execution_count": 10,
   "metadata": {
    "editable": true
   },
   "outputs": [
    {
     "name": "stdout",
     "output_type": "stream",
     "text": [
      "====Null count for fields ====\n",
      "\n",
      "AverageTemperature : 364130\n",
      "AverageTemperatureUncertainty : 364130\n",
      "\n",
      "=============================\n",
      "\n"
     ]
    },
    {
     "data": {
      "image/png": "[encoded data removed]",
      "text/plain": [
       "<matplotlib.figure.Figure at 0x7f0cf52b5940>"
      ]
     },
     "metadata": {
      "needs_background": "light"
     },
     "output_type": "display_data"
    }
   ],
   "source": [
    "visualize_null(temp_spark, title = 'Null Count for World Temperature Dataset')"
   ]
  },
  {
   "cell_type": "code",
   "execution_count": 11,
   "metadata": {
    "editable": true
   },
   "outputs": [
    {
     "data": {
      "text/plain": [
       "(8599212, 8599212)"
      ]
     },
     "execution_count": 11,
     "metadata": {},
     "output_type": "execute_result"
    }
   ],
   "source": [
    "# check the duplicates for all columns in World Temperature\n",
    "(temp_spark.count(), temp_spark.dropDuplicates().count())"
   ]
  },
  {
   "cell_type": "code",
   "execution_count": 12,
   "metadata": {
    "editable": true
   },
   "outputs": [
    {
     "data": {
      "text/plain": [
       "687289"
      ]
     },
     "execution_count": 12,
     "metadata": {},
     "output_type": "execute_result"
    }
   ],
   "source": [
    "temp_spark.filter(\"Country == 'United States'\").count()"
   ]
  },
  {
   "cell_type": "code",
   "execution_count": 13,
   "metadata": {
    "editable": true
   },
   "outputs": [
    {
     "name": "stdout",
     "output_type": "stream",
     "text": [
      "+----------+\n",
      "|   max(dt)|\n",
      "+----------+\n",
      "|2013-09-01|\n",
      "+----------+\n",
      "\n"
     ]
    }
   ],
   "source": [
    "# check the latest date for the Temperature data\n",
    "from pyspark.sql.functions import min, max\n",
    "temp_spark.select(max('dt')).show()"
   ]
  },
  {
   "cell_type": "markdown",
   "metadata": {
    "editable": true
   },
   "source": [
    "##### U.S. City Demographic Data"
   ]
  },
  {
   "cell_type": "code",
   "execution_count": 14,
   "metadata": {
    "editable": true
   },
   "outputs": [
    {
     "data": {
      "text/html": [
       "<div>\n",
       "<style scoped>\n",
       "    .dataframe tbody tr th:only-of-type {\n",
       "        vertical-align: middle;\n",
       "    }\n",
       "\n",
       "    .dataframe tbody tr th {\n",
       "        vertical-align: top;\n",
       "    }\n",
       "\n",
       "    .dataframe thead th {\n",
       "        text-align: right;\n",
       "    }\n",
       "</style>\n",
       "<table border=\"1\" class=\"dataframe\">\n",
       "  <thead>\n",
       "    <tr style=\"text-align: right;\">\n",
       "      <th></th>\n",
       "      <th>City</th>\n",
       "      <th>State</th>\n",
       "      <th>Median Age</th>\n",
       "      <th>Male Population</th>\n",
       "      <th>Female Population</th>\n",
       "      <th>Total Population</th>\n",
       "      <th>Number of Veterans</th>\n",
       "      <th>Foreign-born</th>\n",
       "      <th>Average Household Size</th>\n",
       "      <th>State Code</th>\n",
       "      <th>Race</th>\n",
       "      <th>Count</th>\n",
       "    </tr>\n",
       "  </thead>\n",
       "  <tbody>\n",
       "    <tr>\n",
       "      <th>0</th>\n",
       "      <td>Silver Spring</td>\n",
       "      <td>Maryland</td>\n",
       "      <td>33.8</td>\n",
       "      <td>40601</td>\n",
       "      <td>41862</td>\n",
       "      <td>82463</td>\n",
       "      <td>1562</td>\n",
       "      <td>30908</td>\n",
       "      <td>2.6</td>\n",
       "      <td>MD</td>\n",
       "      <td>Hispanic or Latino</td>\n",
       "      <td>25924</td>\n",
       "    </tr>\n",
       "    <tr>\n",
       "      <th>1</th>\n",
       "      <td>Quincy</td>\n",
       "      <td>Massachusetts</td>\n",
       "      <td>41.0</td>\n",
       "      <td>44129</td>\n",
       "      <td>49500</td>\n",
       "      <td>93629</td>\n",
       "      <td>4147</td>\n",
       "      <td>32935</td>\n",
       "      <td>2.39</td>\n",
       "      <td>MA</td>\n",
       "      <td>White</td>\n",
       "      <td>58723</td>\n",
       "    </tr>\n",
       "    <tr>\n",
       "      <th>2</th>\n",
       "      <td>Hoover</td>\n",
       "      <td>Alabama</td>\n",
       "      <td>38.5</td>\n",
       "      <td>38040</td>\n",
       "      <td>46799</td>\n",
       "      <td>84839</td>\n",
       "      <td>4819</td>\n",
       "      <td>8229</td>\n",
       "      <td>2.58</td>\n",
       "      <td>AL</td>\n",
       "      <td>Asian</td>\n",
       "      <td>4759</td>\n",
       "    </tr>\n",
       "    <tr>\n",
       "      <th>3</th>\n",
       "      <td>Rancho Cucamonga</td>\n",
       "      <td>California</td>\n",
       "      <td>34.5</td>\n",
       "      <td>88127</td>\n",
       "      <td>87105</td>\n",
       "      <td>175232</td>\n",
       "      <td>5821</td>\n",
       "      <td>33878</td>\n",
       "      <td>3.18</td>\n",
       "      <td>CA</td>\n",
       "      <td>Black or African-American</td>\n",
       "      <td>24437</td>\n",
       "    </tr>\n",
       "    <tr>\n",
       "      <th>4</th>\n",
       "      <td>Newark</td>\n",
       "      <td>New Jersey</td>\n",
       "      <td>34.6</td>\n",
       "      <td>138040</td>\n",
       "      <td>143873</td>\n",
       "      <td>281913</td>\n",
       "      <td>5829</td>\n",
       "      <td>86253</td>\n",
       "      <td>2.73</td>\n",
       "      <td>NJ</td>\n",
       "      <td>White</td>\n",
       "      <td>76402</td>\n",
       "    </tr>\n",
       "  </tbody>\n",
       "</table>\n",
       "</div>"
      ],
      "text/plain": [
       "               City          State Median Age Male Population  \\\n",
       "0     Silver Spring       Maryland       33.8           40601   \n",
       "1            Quincy  Massachusetts       41.0           44129   \n",
       "2            Hoover        Alabama       38.5           38040   \n",
       "3  Rancho Cucamonga     California       34.5           88127   \n",
       "4            Newark     New Jersey       34.6          138040   \n",
       "\n",
       "  Female Population Total Population Number of Veterans Foreign-born  \\\n",
       "0             41862            82463               1562        30908   \n",
       "1             49500            93629               4147        32935   \n",
       "2             46799            84839               4819         8229   \n",
       "3             87105           175232               5821        33878   \n",
       "4            143873           281913               5829        86253   \n",
       "\n",
       "  Average Household Size State Code                       Race  Count  \n",
       "0                    2.6         MD         Hispanic or Latino  25924  \n",
       "1                   2.39         MA                      White  58723  \n",
       "2                   2.58         AL                      Asian   4759  \n",
       "3                   3.18         CA  Black or African-American  24437  \n",
       "4                   2.73         NJ                      White  76402  "
      ]
     },
     "execution_count": 14,
     "metadata": {},
     "output_type": "execute_result"
    }
   ],
   "source": [
    "demographics_spark.limit(5).toPandas()"
   ]
  },
  {
   "cell_type": "code",
   "execution_count": 15,
   "metadata": {
    "editable": true
   },
   "outputs": [
    {
     "name": "stdout",
     "output_type": "stream",
     "text": [
      "====Null count for fields ====\n",
      "\n",
      "Male Population : 3\n",
      "Female Population : 3\n",
      "Number of Veterans : 13\n",
      "Foreign-born : 13\n",
      "Average Household Size : 16\n",
      "\n",
      "=============================\n",
      "\n"
     ]
    },
    {
     "data": {
      "image/png": "[encoded data removed]",
      "text/plain": [
       "<matplotlib.figure.Figure at 0x7f0cf521f400>"
      ]
     },
     "metadata": {
      "needs_background": "light"
     },
     "output_type": "display_data"
    }
   ],
   "source": [
    "visualize_null(demographics_spark, title = 'Null Count for US City Demographic Dataset')"
   ]
  },
  {
   "cell_type": "code",
   "execution_count": 16,
   "metadata": {
    "editable": true
   },
   "outputs": [
    {
     "data": {
      "text/plain": [
       "(2891, 2891)"
      ]
     },
     "execution_count": 16,
     "metadata": {},
     "output_type": "execute_result"
    }
   ],
   "source": [
    "# check the duplicates for all columns in US City Demographic Dataset\n",
    "(demographics_spark.count(),demographics_spark.dropDuplicates().count())"
   ]
  },
  {
   "cell_type": "code",
   "execution_count": 17,
   "metadata": {
    "editable": true
   },
   "outputs": [
    {
     "data": {
      "text/html": [
       "<div>\n",
       "<style scoped>\n",
       "    .dataframe tbody tr th:only-of-type {\n",
       "        vertical-align: middle;\n",
       "    }\n",
       "\n",
       "    .dataframe tbody tr th {\n",
       "        vertical-align: top;\n",
       "    }\n",
       "\n",
       "    .dataframe thead th {\n",
       "        text-align: right;\n",
       "    }\n",
       "</style>\n",
       "<table border=\"1\" class=\"dataframe\">\n",
       "  <thead>\n",
       "    <tr style=\"text-align: right;\">\n",
       "      <th></th>\n",
       "      <th>code</th>\n",
       "      <th>country</th>\n",
       "    </tr>\n",
       "  </thead>\n",
       "  <tbody>\n",
       "    <tr>\n",
       "      <th>0</th>\n",
       "      <td>582</td>\n",
       "      <td>MEXICO Air Sea, and Not Reported (I-94, no lan...</td>\n",
       "    </tr>\n",
       "    <tr>\n",
       "      <th>1</th>\n",
       "      <td>236</td>\n",
       "      <td>AFGHANISTAN</td>\n",
       "    </tr>\n",
       "    <tr>\n",
       "      <th>2</th>\n",
       "      <td>101</td>\n",
       "      <td>ALBANIA</td>\n",
       "    </tr>\n",
       "    <tr>\n",
       "      <th>3</th>\n",
       "      <td>316</td>\n",
       "      <td>ALGERIA</td>\n",
       "    </tr>\n",
       "    <tr>\n",
       "      <th>4</th>\n",
       "      <td>102</td>\n",
       "      <td>ANDORRA</td>\n",
       "    </tr>\n",
       "  </tbody>\n",
       "</table>\n",
       "</div>"
      ],
      "text/plain": [
       "  code                                            country\n",
       "0  582  MEXICO Air Sea, and Not Reported (I-94, no lan...\n",
       "1  236                                        AFGHANISTAN\n",
       "2  101                                            ALBANIA\n",
       "3  316                                            ALGERIA\n",
       "4  102                                            ANDORRA"
      ]
     },
     "execution_count": 17,
     "metadata": {},
     "output_type": "execute_result"
    }
   ],
   "source": [
    "i94cit_res.limit(5).toPandas()"
   ]
  },
  {
   "cell_type": "code",
   "execution_count": 18,
   "metadata": {
    "editable": true
   },
   "outputs": [
    {
     "data": {
      "text/html": [
       "<div>\n",
       "<style scoped>\n",
       "    .dataframe tbody tr th:only-of-type {\n",
       "        vertical-align: middle;\n",
       "    }\n",
       "\n",
       "    .dataframe tbody tr th {\n",
       "        vertical-align: top;\n",
       "    }\n",
       "\n",
       "    .dataframe thead th {\n",
       "        text-align: right;\n",
       "    }\n",
       "</style>\n",
       "<table border=\"1\" class=\"dataframe\">\n",
       "  <thead>\n",
       "    <tr style=\"text-align: right;\">\n",
       "      <th></th>\n",
       "      <th>code</th>\n",
       "      <th>transportation</th>\n",
       "    </tr>\n",
       "  </thead>\n",
       "  <tbody>\n",
       "    <tr>\n",
       "      <th>0</th>\n",
       "      <td>1</td>\n",
       "      <td>Air</td>\n",
       "    </tr>\n",
       "    <tr>\n",
       "      <th>1</th>\n",
       "      <td>2</td>\n",
       "      <td>Sea</td>\n",
       "    </tr>\n",
       "    <tr>\n",
       "      <th>2</th>\n",
       "      <td>3</td>\n",
       "      <td>Land</td>\n",
       "    </tr>\n",
       "    <tr>\n",
       "      <th>3</th>\n",
       "      <td>9</td>\n",
       "      <td>Not reported</td>\n",
       "    </tr>\n",
       "  </tbody>\n",
       "</table>\n",
       "</div>"
      ],
      "text/plain": [
       "  code transportation\n",
       "0    1            Air\n",
       "1    2            Sea\n",
       "2    3           Land\n",
       "3    9   Not reported"
      ]
     },
     "execution_count": 18,
     "metadata": {},
     "output_type": "execute_result"
    }
   ],
   "source": [
    "i94mode.toPandas()"
   ]
  },
  {
   "cell_type": "code",
   "execution_count": 19,
   "metadata": {
    "editable": true
   },
   "outputs": [
    {
     "data": {
      "text/html": [
       "<div>\n",
       "<style scoped>\n",
       "    .dataframe tbody tr th:only-of-type {\n",
       "        vertical-align: middle;\n",
       "    }\n",
       "\n",
       "    .dataframe tbody tr th {\n",
       "        vertical-align: top;\n",
       "    }\n",
       "\n",
       "    .dataframe thead th {\n",
       "        text-align: right;\n",
       "    }\n",
       "</style>\n",
       "<table border=\"1\" class=\"dataframe\">\n",
       "  <thead>\n",
       "    <tr style=\"text-align: right;\">\n",
       "      <th></th>\n",
       "      <th>code</th>\n",
       "      <th>port_of_entry</th>\n",
       "    </tr>\n",
       "  </thead>\n",
       "  <tbody>\n",
       "    <tr>\n",
       "      <th>0</th>\n",
       "      <td>ALC</td>\n",
       "      <td>ALCAN, AK</td>\n",
       "    </tr>\n",
       "    <tr>\n",
       "      <th>1</th>\n",
       "      <td>ANC</td>\n",
       "      <td>ANCHORAGE, AK</td>\n",
       "    </tr>\n",
       "    <tr>\n",
       "      <th>2</th>\n",
       "      <td>BAR</td>\n",
       "      <td>BAKER AAF - BAKER ISLAND, AK</td>\n",
       "    </tr>\n",
       "    <tr>\n",
       "      <th>3</th>\n",
       "      <td>DAC</td>\n",
       "      <td>DALTONS CACHE, AK</td>\n",
       "    </tr>\n",
       "    <tr>\n",
       "      <th>4</th>\n",
       "      <td>PIZ</td>\n",
       "      <td>DEW STATION PT LAY DEW, AK</td>\n",
       "    </tr>\n",
       "  </tbody>\n",
       "</table>\n",
       "</div>"
      ],
      "text/plain": [
       "  code                 port_of_entry\n",
       "0  ALC                     ALCAN, AK\n",
       "1  ANC                 ANCHORAGE, AK\n",
       "2  BAR  BAKER AAF - BAKER ISLAND, AK\n",
       "3  DAC             DALTONS CACHE, AK\n",
       "4  PIZ    DEW STATION PT LAY DEW, AK"
      ]
     },
     "execution_count": 19,
     "metadata": {},
     "output_type": "execute_result"
    }
   ],
   "source": [
    "i94port.limit(5).toPandas()"
   ]
  },
  {
   "cell_type": "code",
   "execution_count": 20,
   "metadata": {
    "editable": true
   },
   "outputs": [
    {
     "data": {
      "text/html": [
       "<div>\n",
       "<style scoped>\n",
       "    .dataframe tbody tr th:only-of-type {\n",
       "        vertical-align: middle;\n",
       "    }\n",
       "\n",
       "    .dataframe tbody tr th {\n",
       "        vertical-align: top;\n",
       "    }\n",
       "\n",
       "    .dataframe thead th {\n",
       "        text-align: right;\n",
       "    }\n",
       "</style>\n",
       "<table border=\"1\" class=\"dataframe\">\n",
       "  <thead>\n",
       "    <tr style=\"text-align: right;\">\n",
       "      <th></th>\n",
       "      <th>code</th>\n",
       "      <th>state</th>\n",
       "    </tr>\n",
       "  </thead>\n",
       "  <tbody>\n",
       "    <tr>\n",
       "      <th>0</th>\n",
       "      <td>AL</td>\n",
       "      <td>ALABAMA</td>\n",
       "    </tr>\n",
       "    <tr>\n",
       "      <th>1</th>\n",
       "      <td>AK</td>\n",
       "      <td>ALASKA</td>\n",
       "    </tr>\n",
       "    <tr>\n",
       "      <th>2</th>\n",
       "      <td>AZ</td>\n",
       "      <td>ARIZONA</td>\n",
       "    </tr>\n",
       "    <tr>\n",
       "      <th>3</th>\n",
       "      <td>AR</td>\n",
       "      <td>ARKANSAS</td>\n",
       "    </tr>\n",
       "    <tr>\n",
       "      <th>4</th>\n",
       "      <td>CA</td>\n",
       "      <td>CALIFORNIA</td>\n",
       "    </tr>\n",
       "  </tbody>\n",
       "</table>\n",
       "</div>"
      ],
      "text/plain": [
       "  code       state\n",
       "0   AL     ALABAMA\n",
       "1   AK      ALASKA\n",
       "2   AZ     ARIZONA\n",
       "3   AR    ARKANSAS\n",
       "4   CA  CALIFORNIA"
      ]
     },
     "execution_count": 20,
     "metadata": {},
     "output_type": "execute_result"
    }
   ],
   "source": [
    "i94addr.limit(5).toPandas()"
   ]
  },
  {
   "cell_type": "markdown",
   "metadata": {
    "editable": true
   },
   "source": [
    "#### Cleaning Steps\n",
    "Document steps necessary to clean the data"
   ]
  },
  {
   "cell_type": "markdown",
   "metadata": {
    "editable": true
   },
   "source": [
    "- Clean Immigration data"
   ]
  },
  {
   "cell_type": "code",
   "execution_count": 21,
   "metadata": {
    "editable": true
   },
   "outputs": [],
   "source": [
    "@udf(StringType())\n",
    "def convert_datetime(x):\n",
    "    from datetime import datetime, timedelta\n",
    "    if x:\n",
    "        return (datetime(1960, 1, 1).date() + timedelta(x)).isoformat()\n",
    "    return None\n",
    "\n",
    "# drop nulls based on specified columns\n",
    "immigration_spark_clean = immigration_spark.dropna(how='any', subset=['i94res', 'i94port', 'i94mode', 'i94addr','gender'])\n",
    "# convert to the datetime\n",
    "immigration_spark_clean = immigration_spark_clean.withColumn(\"arrdate\", convert_datetime(immigration_spark_clean.arrdate))\n",
    "immigration_spark_clean = immigration_spark_clean.withColumn(\"depdate\", convert_datetime(immigration_spark_clean.depdate))\n",
    "# select the relative columns\n",
    "immigration_spark_clean = immigration_spark_clean.select( col(\"cicid\").cast(IntegerType()),\n",
    "                                col('i94yr').cast(IntegerType()).alias('year'),\n",
    "                                col('i94mon').cast(IntegerType()).alias('month'),\n",
    "                                col(\"i94res\").cast(IntegerType()).alias('country_code'),\n",
    "                                col(\"i94port\").alias('city_code'),\n",
    "                                \"arrdate\",\n",
    "                                col(\"i94mode\").cast(IntegerType()).alias('mode'),\n",
    "                                col(\"i94addr\").alias('state_code'),\n",
    "                                \"depdate\",\n",
    "                                col(\"i94bir\").cast(IntegerType()).alias('age'),\n",
    "                                col(\"i94visa\").cast(IntegerType()).alias('visa'),\n",
    "                                col(\"biryear\").cast(IntegerType()),\n",
    "                                \"gender\",\n",
    "                                \"visatype\"\n",
    "                              ).drop_duplicates()"
   ]
  },
  {
   "cell_type": "code",
   "execution_count": 22,
   "metadata": {
    "editable": true
   },
   "outputs": [
    {
     "data": {
      "text/html": [
       "<div>\n",
       "<style scoped>\n",
       "    .dataframe tbody tr th:only-of-type {\n",
       "        vertical-align: middle;\n",
       "    }\n",
       "\n",
       "    .dataframe tbody tr th {\n",
       "        vertical-align: top;\n",
       "    }\n",
       "\n",
       "    .dataframe thead th {\n",
       "        text-align: right;\n",
       "    }\n",
       "</style>\n",
       "<table border=\"1\" class=\"dataframe\">\n",
       "  <thead>\n",
       "    <tr style=\"text-align: right;\">\n",
       "      <th></th>\n",
       "      <th>cicid</th>\n",
       "      <th>year</th>\n",
       "      <th>month</th>\n",
       "      <th>country_code</th>\n",
       "      <th>city_code</th>\n",
       "      <th>arrdate</th>\n",
       "      <th>mode</th>\n",
       "      <th>state_code</th>\n",
       "      <th>depdate</th>\n",
       "      <th>age</th>\n",
       "      <th>visa</th>\n",
       "      <th>biryear</th>\n",
       "      <th>gender</th>\n",
       "      <th>visatype</th>\n",
       "    </tr>\n",
       "  </thead>\n",
       "  <tbody>\n",
       "    <tr>\n",
       "      <th>0</th>\n",
       "      <td>214</td>\n",
       "      <td>2016</td>\n",
       "      <td>4</td>\n",
       "      <td>103</td>\n",
       "      <td>NYC</td>\n",
       "      <td>2016-04-01</td>\n",
       "      <td>1</td>\n",
       "      <td>NY</td>\n",
       "      <td>2016-04-07</td>\n",
       "      <td>45</td>\n",
       "      <td>2</td>\n",
       "      <td>1971</td>\n",
       "      <td>F</td>\n",
       "      <td>WT</td>\n",
       "    </tr>\n",
       "    <tr>\n",
       "      <th>1</th>\n",
       "      <td>240</td>\n",
       "      <td>2016</td>\n",
       "      <td>4</td>\n",
       "      <td>103</td>\n",
       "      <td>NYC</td>\n",
       "      <td>2016-04-01</td>\n",
       "      <td>1</td>\n",
       "      <td>NY</td>\n",
       "      <td>2016-04-08</td>\n",
       "      <td>41</td>\n",
       "      <td>2</td>\n",
       "      <td>1975</td>\n",
       "      <td>F</td>\n",
       "      <td>WT</td>\n",
       "    </tr>\n",
       "    <tr>\n",
       "      <th>2</th>\n",
       "      <td>282</td>\n",
       "      <td>2016</td>\n",
       "      <td>4</td>\n",
       "      <td>103</td>\n",
       "      <td>NYC</td>\n",
       "      <td>2016-04-01</td>\n",
       "      <td>1</td>\n",
       "      <td>NY</td>\n",
       "      <td>2016-04-19</td>\n",
       "      <td>23</td>\n",
       "      <td>2</td>\n",
       "      <td>1993</td>\n",
       "      <td>M</td>\n",
       "      <td>WT</td>\n",
       "    </tr>\n",
       "    <tr>\n",
       "      <th>3</th>\n",
       "      <td>390</td>\n",
       "      <td>2016</td>\n",
       "      <td>4</td>\n",
       "      <td>103</td>\n",
       "      <td>MIA</td>\n",
       "      <td>2016-04-01</td>\n",
       "      <td>1</td>\n",
       "      <td>FL</td>\n",
       "      <td>2016-04-14</td>\n",
       "      <td>35</td>\n",
       "      <td>2</td>\n",
       "      <td>1981</td>\n",
       "      <td>F</td>\n",
       "      <td>WT</td>\n",
       "    </tr>\n",
       "    <tr>\n",
       "      <th>4</th>\n",
       "      <td>542</td>\n",
       "      <td>2016</td>\n",
       "      <td>4</td>\n",
       "      <td>103</td>\n",
       "      <td>PHI</td>\n",
       "      <td>2016-04-01</td>\n",
       "      <td>1</td>\n",
       "      <td>PR</td>\n",
       "      <td>2016-04-16</td>\n",
       "      <td>47</td>\n",
       "      <td>2</td>\n",
       "      <td>1969</td>\n",
       "      <td>F</td>\n",
       "      <td>WT</td>\n",
       "    </tr>\n",
       "  </tbody>\n",
       "</table>\n",
       "</div>"
      ],
      "text/plain": [
       "   cicid  year  month  country_code city_code     arrdate  mode state_code  \\\n",
       "0    214  2016      4           103       NYC  2016-04-01     1         NY   \n",
       "1    240  2016      4           103       NYC  2016-04-01     1         NY   \n",
       "2    282  2016      4           103       NYC  2016-04-01     1         NY   \n",
       "3    390  2016      4           103       MIA  2016-04-01     1         FL   \n",
       "4    542  2016      4           103       PHI  2016-04-01     1         PR   \n",
       "\n",
       "      depdate  age  visa  biryear gender visatype  \n",
       "0  2016-04-07   45     2     1971      F       WT  \n",
       "1  2016-04-08   41     2     1975      F       WT  \n",
       "2  2016-04-19   23     2     1993      M       WT  \n",
       "3  2016-04-14   35     2     1981      F       WT  \n",
       "4  2016-04-16   47     2     1969      F       WT  "
      ]
     },
     "execution_count": 22,
     "metadata": {},
     "output_type": "execute_result"
    }
   ],
   "source": [
    "immigration_spark_clean.limit(5).toPandas()"
   ]
  },
  {
   "cell_type": "markdown",
   "metadata": {
    "editable": true
   },
   "source": [
    "- Clean Temperature Data"
   ]
  },
  {
   "cell_type": "code",
   "execution_count": 23,
   "metadata": {
    "editable": true
   },
   "outputs": [],
   "source": [
    "from pyspark.sql.functions import year, month\n",
    "latest_year_for_temp = temp_spark.select(max(year('dt'))).collect()[0][0]\n",
    "# only select the temp data for US \n",
    "# drop the nulls based on the city\n",
    "temp_spark_clean = temp_spark.filter(col(\"Country\") == 'United States')\n",
    "\n",
    "@udf(StringType())\n",
    "def city_to_code(x):\n",
    "    i94port_df = pd.read_csv('./code_mapper/i94port.csv')\n",
    "    for c, p in zip(i94port_df['code'],i94port_df['port_of_entry'].str.lower()):\n",
    "        if x.lower() in p:\n",
    "            return c\n",
    "\n",
    "temp_spark_clean = temp_spark_clean.withColumn('year', year(temp_spark_clean.dt)) \\\n",
    "                                   .withColumn('city_code', city_to_code(temp_spark_clean.City))\n",
    "# only select the latest Temperature Data and valid port code\n",
    "temp_spark_clean = temp_spark_clean.filter(col(\"year\") == latest_year_for_temp)\\\n",
    "    .drop(col(\"year\")).dropna(how = 'any', subset = 'city_code')\\\n",
    "    .drop_duplicates()\n",
    "\n",
    "\n",
    "temp_spark_clean = temp_spark_clean.select(\n",
    "                       col('dt').alias('date'), \n",
    "                       col('AverageTemperature').cast(FloatType()).alias('avg_temperature'),\n",
    "                       col('City').alias('city'),\n",
    "                       col('city_code'),\n",
    "                       col('Country').alias('country'),\n",
    "                       col('Latitude').alias('latitude'),\n",
    "                       col('Longitude').alias('longitude')\n",
    "                                           )"
   ]
  },
  {
   "cell_type": "code",
   "execution_count": 24,
   "metadata": {
    "editable": true
   },
   "outputs": [
    {
     "name": "stdout",
     "output_type": "stream",
     "text": [
      "+----------+---------------+--------------+---------+-------------+--------+---------+\n",
      "|      date|avg_temperature|          city|city_code|      country|latitude|longitude|\n",
      "+----------+---------------+--------------+---------+-------------+--------+---------+\n",
      "|2013-04-01|          6.652|  Cedar Rapids|      CID|United States|  42.59N|   91.64W|\n",
      "|2013-09-01|         21.342|    Des Moines|      DSM|United States|  40.99N|   93.73W|\n",
      "|2013-09-01|         19.722|Salt Lake City|      SLC|United States|  40.99N|  112.90W|\n",
      "|2013-09-01|          23.45|      Columbia|      CAE|United States|  34.56N|   81.73W|\n",
      "|2013-04-01|          17.16|       Jackson|      JAC|United States|  32.95N|   90.96W|\n",
      "+----------+---------------+--------------+---------+-------------+--------+---------+\n",
      "\n"
     ]
    }
   ],
   "source": [
    "temp_spark_clean.limit(5).show()"
   ]
  },
  {
   "cell_type": "markdown",
   "metadata": {
    "editable": true
   },
   "source": [
    "- Clean US City Demographics Data"
   ]
  },
  {
   "cell_type": "code",
   "execution_count": 25,
   "metadata": {
    "editable": true
   },
   "outputs": [],
   "source": [
    "\n",
    "demographics_spark_clean = demographics_spark.withColumn('Count', col('Count').cast(IntegerType()))\n",
    "# melt the race to keep the data atomic\n",
    "race_df = demographics_spark_clean.groupBy('City', 'State').pivot('Race').sum('Count')\n",
    "\n",
    "demographics_spark_clean = demographics_spark_clean.select('City',\n",
    "                             'State',\n",
    "                             'State Code',\n",
    "                             'Median Age',\n",
    "                             'Male Population',\n",
    "                             'Female Population',\n",
    "                             'Total Population',\n",
    "                             'Number of Veterans',\n",
    "                             'Foreign-born',\n",
    "                             'Average Household Size'\n",
    "                             ).join(race_df,['City', 'State'], how = 'left')"
   ]
  },
  {
   "cell_type": "code",
   "execution_count": 26,
   "metadata": {
    "editable": true
   },
   "outputs": [],
   "source": [
    "# drop nulls based on the valid city_code\n",
    "demographics_spark_clean = demographics_spark_clean.withColumn('city_code', city_to_code(demographics_spark_clean.City)).dropna(how = 'any', subset = 'city_code')\n",
    "# rename columns \n",
    "demographics_spark_clean = demographics_spark_clean.select(\n",
    "    col('City').alias('city'),\n",
    "    col('city_code'),\n",
    "    col('State').alias('state'),\n",
    "    col('State Code').alias('state_code'),\n",
    "    col('Median Age').alias('meidan_age'),\n",
    "    col('Male Population').alias('male_population'),\n",
    "    col('Female Population').alias('female_population'),\n",
    "    col('Total Population').alias('total_population'),\n",
    "    col('Number of Veterans').alias('no_of_veterans'),\n",
    "    col('Foreign-born').alias('foreign_born'),\n",
    "    col('Average Household Size').alias('avg_household_size'),\n",
    "    col('American Indian and Alaska Native').alias('native_american'),\n",
    "    col('Asian').alias('asian'),\n",
    "    col('Black or African-American').alias('black_american'),\n",
    "    col('Hispanic or Latino').alias('hispanic_or_latino'),\n",
    "    col('White').alias('white')\n",
    ").drop_duplicates()"
   ]
  },
  {
   "cell_type": "code",
   "execution_count": 27,
   "metadata": {
    "editable": true
   },
   "outputs": [
    {
     "data": {
      "text/plain": [
       "(180, 180)"
      ]
     },
     "execution_count": 27,
     "metadata": {},
     "output_type": "execute_result"
    }
   ],
   "source": [
    "# check the duplicates\n",
    "(demographics_spark_clean.count(), demographics_spark_clean.drop_duplicates().count())"
   ]
  },
  {
   "cell_type": "code",
   "execution_count": 28,
   "metadata": {
    "editable": true
   },
   "outputs": [
    {
     "data": {
      "text/html": [
       "<div>\n",
       "<style scoped>\n",
       "    .dataframe tbody tr th:only-of-type {\n",
       "        vertical-align: middle;\n",
       "    }\n",
       "\n",
       "    .dataframe tbody tr th {\n",
       "        vertical-align: top;\n",
       "    }\n",
       "\n",
       "    .dataframe thead th {\n",
       "        text-align: right;\n",
       "    }\n",
       "</style>\n",
       "<table border=\"1\" class=\"dataframe\">\n",
       "  <thead>\n",
       "    <tr style=\"text-align: right;\">\n",
       "      <th></th>\n",
       "      <th>city</th>\n",
       "      <th>city_code</th>\n",
       "      <th>state</th>\n",
       "      <th>state_code</th>\n",
       "      <th>meidan_age</th>\n",
       "      <th>male_population</th>\n",
       "      <th>female_population</th>\n",
       "      <th>total_population</th>\n",
       "      <th>no_of_veterans</th>\n",
       "      <th>foreign_born</th>\n",
       "      <th>avg_household_size</th>\n",
       "      <th>native_american</th>\n",
       "      <th>asian</th>\n",
       "      <th>black_american</th>\n",
       "      <th>hispanic_or_latino</th>\n",
       "      <th>white</th>\n",
       "    </tr>\n",
       "  </thead>\n",
       "  <tbody>\n",
       "    <tr>\n",
       "      <th>0</th>\n",
       "      <td>Bend</td>\n",
       "      <td>SBN</td>\n",
       "      <td>Oregon</td>\n",
       "      <td>OR</td>\n",
       "      <td>37.3</td>\n",
       "      <td>42294</td>\n",
       "      <td>44723</td>\n",
       "      <td>87017</td>\n",
       "      <td>6199</td>\n",
       "      <td>3032</td>\n",
       "      <td>2.39</td>\n",
       "      <td>1818</td>\n",
       "      <td>2726</td>\n",
       "      <td>465</td>\n",
       "      <td>8173</td>\n",
       "      <td>83689</td>\n",
       "    </tr>\n",
       "    <tr>\n",
       "      <th>1</th>\n",
       "      <td>Lincoln</td>\n",
       "      <td>LLB</td>\n",
       "      <td>Nebraska</td>\n",
       "      <td>NE</td>\n",
       "      <td>32.3</td>\n",
       "      <td>138544</td>\n",
       "      <td>138802</td>\n",
       "      <td>277346</td>\n",
       "      <td>14694</td>\n",
       "      <td>22958</td>\n",
       "      <td>2.4</td>\n",
       "      <td>4281</td>\n",
       "      <td>15138</td>\n",
       "      <td>16445</td>\n",
       "      <td>20296</td>\n",
       "      <td>246677</td>\n",
       "    </tr>\n",
       "    <tr>\n",
       "      <th>2</th>\n",
       "      <td>Denton</td>\n",
       "      <td>SRQ</td>\n",
       "      <td>Texas</td>\n",
       "      <td>TX</td>\n",
       "      <td>28.7</td>\n",
       "      <td>62478</td>\n",
       "      <td>68569</td>\n",
       "      <td>131047</td>\n",
       "      <td>6352</td>\n",
       "      <td>18451</td>\n",
       "      <td>2.66</td>\n",
       "      <td>1857</td>\n",
       "      <td>7061</td>\n",
       "      <td>15542</td>\n",
       "      <td>29350</td>\n",
       "      <td>106278</td>\n",
       "    </tr>\n",
       "    <tr>\n",
       "      <th>3</th>\n",
       "      <td>Newark</td>\n",
       "      <td>NEW</td>\n",
       "      <td>New Jersey</td>\n",
       "      <td>NJ</td>\n",
       "      <td>34.6</td>\n",
       "      <td>138040</td>\n",
       "      <td>143873</td>\n",
       "      <td>281913</td>\n",
       "      <td>5829</td>\n",
       "      <td>86253</td>\n",
       "      <td>2.73</td>\n",
       "      <td>2268</td>\n",
       "      <td>7349</td>\n",
       "      <td>144961</td>\n",
       "      <td>100432</td>\n",
       "      <td>76402</td>\n",
       "    </tr>\n",
       "    <tr>\n",
       "      <th>4</th>\n",
       "      <td>Iowa City</td>\n",
       "      <td>CID</td>\n",
       "      <td>Iowa</td>\n",
       "      <td>IA</td>\n",
       "      <td>25.5</td>\n",
       "      <td>37089</td>\n",
       "      <td>37138</td>\n",
       "      <td>74227</td>\n",
       "      <td>2047</td>\n",
       "      <td>9202</td>\n",
       "      <td>2.36</td>\n",
       "      <td>610</td>\n",
       "      <td>5533</td>\n",
       "      <td>7219</td>\n",
       "      <td>4072</td>\n",
       "      <td>59839</td>\n",
       "    </tr>\n",
       "  </tbody>\n",
       "</table>\n",
       "</div>"
      ],
      "text/plain": [
       "        city city_code       state state_code meidan_age male_population  \\\n",
       "0       Bend       SBN      Oregon         OR       37.3           42294   \n",
       "1    Lincoln       LLB    Nebraska         NE       32.3          138544   \n",
       "2     Denton       SRQ       Texas         TX       28.7           62478   \n",
       "3     Newark       NEW  New Jersey         NJ       34.6          138040   \n",
       "4  Iowa City       CID        Iowa         IA       25.5           37089   \n",
       "\n",
       "  female_population total_population no_of_veterans foreign_born  \\\n",
       "0             44723            87017           6199         3032   \n",
       "1            138802           277346          14694        22958   \n",
       "2             68569           131047           6352        18451   \n",
       "3            143873           281913           5829        86253   \n",
       "4             37138            74227           2047         9202   \n",
       "\n",
       "  avg_household_size  native_american  asian  black_american  \\\n",
       "0               2.39             1818   2726             465   \n",
       "1                2.4             4281  15138           16445   \n",
       "2               2.66             1857   7061           15542   \n",
       "3               2.73             2268   7349          144961   \n",
       "4               2.36              610   5533            7219   \n",
       "\n",
       "   hispanic_or_latino   white  \n",
       "0                8173   83689  \n",
       "1               20296  246677  \n",
       "2               29350  106278  \n",
       "3              100432   76402  \n",
       "4                4072   59839  "
      ]
     },
     "execution_count": 28,
     "metadata": {},
     "output_type": "execute_result"
    }
   ],
   "source": [
    "demographics_spark_clean.limit(5).toPandas()"
   ]
  },
  {
   "cell_type": "markdown",
   "metadata": {
    "editable": true
   },
   "source": [
    "### Step 3: Define the Data Model\n",
    "#### 3.1 Conceptual Data Model\n",
    "\n",
    "The Data Model is designed as Star Schema because it is formed with simple logic and queries easy to extract the data from the transactional process so that the analytic team can analysis the data easily."
   ]
  },
  {
   "cell_type": "markdown",
   "metadata": {
    "editable": true
   },
   "source": [
    "**Star Schema**"
   ]
  },
  {
   "cell_type": "markdown",
   "metadata": {
    "editable": true
   },
   "source": [
    "**1. Fact Table:**\n",
    "\n",
    "- fact_immigration\n",
    "\n",
    "```\n",
    "cicid, year, month, country_code, city_code, arrdate, mode, state_code, depdate, age, visa, biryear, gender, visatype\n",
    "```\n",
    "**2. Dimension Table:**\n",
    "- dim_temperature\n",
    "\n",
    "``` \n",
    "city, city_code, country, date, avg_temperature, latitude, longitude\n",
    " ```\n",
    "- dim_us_demographics\n",
    "\n",
    "``` \n",
    "city, city_code, state, state_code, meidan_age, male_population, female_population, total_population, no_of_veterans, foreign_born, avg_household_size, native_american, asian, black_american, hispanic_or_latino, white\n",
    "```\n",
    "- dim_country\n",
    "\n",
    "```\n",
    "code, country\n",
    "```\n",
    "\n",
    "- dim_mode\n",
    "\n",
    "``` \n",
    "code, transportation\n",
    "```\n",
    "- dim_state\n",
    "\n",
    "```\n",
    "code, state\n",
    "```"
   ]
  },
  {
   "cell_type": "markdown",
   "metadata": {
    "editable": true
   },
   "source": [
    "\n",
    "\n",
    "#### 3.2 Mapping Out Data Pipelines\n",
    "List the steps necessary to pipeline the data into the chosen data model"
   ]
  },
  {
   "cell_type": "markdown",
   "metadata": {
    "editable": true
   },
   "source": [
    "##### fact_immigration\n",
    "- Load the immigration data from sas_data folder with pyspark\n",
    "- Drop rows where the there is null value in i94res, i94port, i94mode, i94addr,gender \n",
    "- Convert the arrdate and depdate to date format\n",
    "- Convert the corresponding Integer fields\n",
    "- Select the specified fields\n",
    "- Drop the duplicates for all the selected fields\n",
    "- Write the cleaned immigration_spark_clean dataframe to parquet\n",
    "\n",
    "##### dim_temperature\n",
    "- Load the temperature data form '../../data2/GlobalLandTemperaturesByCity.csv' with pyspark\n",
    "- Filter out the temperature with 'Country == \"United States\"'\n",
    "- Map the city and city code based on the i94port data\n",
    "- Add year column to filter the latest year\n",
    "- Filter out the latest data with year = max(year)\n",
    "- Drop the rows where the city_code is null\n",
    "- Drop the year column\n",
    "- Drop the duplicates to all columns\n",
    "- Select the columns and rename with lowercase\n",
    "- Write the cleaned temp_spark_clean dataframe to parquet\n",
    "\n",
    "\n",
    "##### dim_us_demographics\n",
    "- Load the data from us-cities-demographics.csv with pyspark\n",
    "- Create a dataframe `race_df` group the city_code, state by the Race column with sum aggragation to keep most of the fields unique\n",
    "- Select the fields except the Race and Count as a dataframe and join with the `race_df`\n",
    "- Map the city and city code based on the i94port data\n",
    "- Drop the rows where the city_code is null\n",
    "- Rename the columns with lowercase\n",
    "- Drop the duplicates for all the selected fields\n",
    "- Write the cleaned demographics_spark_clean dataframe to parquet\n",
    "\n",
    "##### dim_country\n",
    "- Load the label description file I94_SAS_Labels_Descriptions.SAS\n",
    "- Extract the code and the country data\n",
    "- Write the code and country into CSV files\n",
    "- Write the data to parquet\n",
    "\n",
    "##### dim_mode\n",
    "- Load the label description file I94_SAS_Labels_Descriptions.SAS\n",
    "- Extract the code and the transportation data\n",
    "- Write the code and transportation into CSV files\n",
    "- Write the data to parquet\n",
    "\n",
    "##### dim_state\n",
    "\n",
    "- Load the label description file I94_SAS_Labels_Descriptions.SAS\n",
    "- Extract the code and the state data\n",
    "- Write the code and state into CSV files\n",
    "- Write the data to parquet\n"
   ]
  },
  {
   "cell_type": "markdown",
   "metadata": {
    "editable": true
   },
   "source": [
    "### Step 4: Run Pipelines to Model the Data \n",
    "#### 4.1 Create the data model\n",
    "Build the data pipelines to create the data model.\n",
    "\n",
    "The transform work see `Clean Steps` section above."
   ]
  },
  {
   "cell_type": "code",
   "execution_count": null,
   "metadata": {
    "editable": true
   },
   "outputs": [],
   "source": [
    "immigration_spark_clean.write.parquet(\"./model_data/fact_immigration\")\n",
    "temp_spark_clean.write.parquet(\"./model_data/dim_temperature\")\n",
    "demographics_spark_clean.write.parquet(\"./model_data/dim_us_demographics\")\n",
    "i94cit_res.write.parquet(\"./model_data/dim_country\")\n",
    "i94mode.write.parquet(\"./model_data/dim_mode\")\n",
    "i94addr.write.parquet(\"./model_data/dim_state\")"
   ]
  },
  {
   "cell_type": "markdown",
   "metadata": {
    "editable": true
   },
   "source": [
    "#### 4.2 Data Quality Checks\n",
    "Explain the data quality checks you'll perform to ensure the pipeline ran as expected. These could include:\n",
    " * Integrity constraints on the relational database (e.g., unique key, data type, etc.)\n",
    " * Unit tests for the scripts to ensure they are doing the right thing\n",
    " * Source/Count checks to ensure completeness\n",
    " \n",
    "Run Quality Checks"
   ]
  },
  {
   "cell_type": "code",
   "execution_count": null,
   "metadata": {
    "editable": true
   },
   "outputs": [],
   "source": [
    "# Perform quality checks here\n",
    "def isnull_for_table(df):\n",
    "    flag = df.count() != 0\n",
    "    return flag\n",
    "\n",
    "flags = []\n",
    "dfs = [immigration_spark_clean, temp_spark_clean, demographics_spark_clean, i94cit_res, i94mode, i94addr]\n",
    "for df in dfs:\n",
    "    flags.append(isnull_for_table(df))\n",
    "\n",
    "if all(flags):\n",
    "    print('Data quality check passed!')\n",
    "else:\n",
    "    print('Data quality check failed! Null table exists.')"
   ]
  },
  {
   "cell_type": "markdown",
   "metadata": {
    "editable": true
   },
   "source": [
    "#### 4.3 Data dictionary \n",
    "Create a data dictionary for your data model. For each field, provide a brief description of what the data is and where it came from. You can include the data dictionary in the notebook or in a separate file."
   ]
  },
  {
   "cell_type": "markdown",
   "metadata": {
    "editable": true
   },
   "source": [
    "##### Data Dictionary for fact_immigration\n",
    "\n",
    "The dataset comes from [Visitor Arrivals Program (I-94 Record)](https://travel.trade.gov/research/reports/i94/historical/2016.html). It contains international visitor arrival statistics by world regions and select countries (including top 20), type of visa, mode of transportation, age groups, states visited (first intended address only), and the top ports of entry (for select countries).\n",
    "\n",
    "- cicid: Record ID\n",
    "- year: 4 digit year\n",
    "- month: Numeric month\n",
    "- country_code(i94cit): 3 digit code for immigrant country of residence\n",
    "- city_code(i94port): Port of admission\n",
    "- arrdate: Arrival Date in the USA\n",
    "- mode(i94mode): Mode of transportation (1 = Air; 2 = Sea; 3 = Land; 9 = Not reported)\n",
    "- state_code(i94addr): USA State of arrival\n",
    "- depdate: Departure Date from the USA\n",
    "- age(i94bir(: Age of Respondent in Years\n",
    "- visa(i94visa): Visa codes collapsed into three categories\n",
    "- biryear: 4 digit year of birth\n",
    "- gender: Non-immigrant sex\n",
    "- visatype: Class of admission legally admitting the non-immigrant to temporarily stay in U.S."
   ]
  },
  {
   "cell_type": "markdown",
   "metadata": {
    "editable": true
   },
   "source": [
    "##### Data Dictionary for US City Demographics Data\n",
    "This data comes from [OpenSoft](https://public.opendatasoft.com/explore/dataset/us-cities-demographics/export/) which contains information about the demographics of all US cities and census-designated places.\n",
    "\n",
    "- city: City Name\n",
    "- city_code: City code\n",
    "- state: US State where city is located\n",
    "- state_code: Code of the US state\n",
    "- median_age: Median age of the population\n",
    "- male_population: Count of male population\n",
    "- female_population: Count of female population\n",
    "- total_population: Count of total population\n",
    "- no_of_veterans: Count of total Veterans\n",
    "- foreign_born: Count of residents of the city that were not born in the city\n",
    "- avg_household_size: Average city household size\n",
    "- native_american: Count of the Black or African-American\n",
    "- asian: Count of the Asian\n",
    "- black_american: Count of the Black American\n",
    "- hispanic_or_latino: Count of the Hispanic or Latino\n",
    "- white: Count of the White"
   ]
  },
  {
   "cell_type": "markdown",
   "metadata": {
    "editable": true
   },
   "source": [
    "##### Data Dictionary for dim_temperature\n",
    "\n",
    "This dataset came from Kaggle which contains Global Land Temperatures By City\n",
    "\n",
    "- city: Name of City\n",
    "- city_code: City code\n",
    "- country: Name of Country\n",
    "- date(dt): Date\n",
    "- avg_emperature: Global average land temperature in celsius\n",
    "- latitude: City Latitude\n",
    "- longitude: City Longitude"
   ]
  },
  {
   "cell_type": "markdown",
   "metadata": {
    "editable": true
   },
   "source": [
    "##### Data Dictionary for dim_country\n",
    "The dataset extracted from `I94_SAS_Labels_Descriptions.SAS`\n",
    "\n",
    "- code: Country code\n",
    "- country: country name\n",
    "\n",
    "##### Data Dictionary for dim_mode\n",
    "The dataset extracted from `I94_SAS_Labels_Descriptions.SAS`\n",
    "\n",
    "- code: categories (1, 2, 3, 9)\n",
    "- transportation: transportation categories mapping the code\n",
    "\n",
    "##### Data Dictionary for dim_state\n",
    "The dataset extracted from `I94_SAS_Labels_Descriptions.SAS`\n",
    "- code: State code\n",
    "- state: State name"
   ]
  },
  {
   "cell_type": "markdown",
   "metadata": {
    "editable": true
   },
   "source": [
    "#### Step 5: Complete Project Write Up\n",
    "* Clearly state the rationale for the choice of tools and technologies for the project.\n",
    "\n",
    "The reason for using Apache Spark with Python tools is that Spark with distributed computing functions can easily handle big data. In addition, it can easily be extended to cloud computing services if the amount of data increases like AWS (EC2 + EMR+S3/HDFS).\n",
    "\n",
    "\n",
    " \n",
    "* Propose how often the data should be updated and why.\n",
    "\n",
    "The Data Pipeline can be executed every week to update as the collection and analysis of immigration information is a long-term continuous process. Statistics on immigration and climate data every week or month can help understand the overall immigration situation.\n",
    "\n",
    "\n",
    "* Write a description of how you would approach the problem differently under the following scenarios:\n",
    " * The data was increased by 100x.\n",
    " \n",
    "\n",
    "Add AWS EMR instances and set HDFS as a data storage system\n",
    "\n",
    " \n",
    " * The data populates a dashboard that must be updated on a daily basis by 7am every day.\n",
    " \n",
    "\n",
    "\n",
    "Schedule the Data Pipeline at 7am daily in Apache Airflow for the task\n",
    " \n",
    " \n",
    " * The database needed to be accessed by 100+ people.\n",
    "\n",
    "\n",
    " Create a data warehouse in AWS Redshift with stored parquet data inserted and then grant a group permission\n",
    "\n"
   ]
  },
  {
   "cell_type": "code",
   "execution_count": null,
   "metadata": {
    "editable": true
   },
   "outputs": [],
   "source": []
  },
  {
   "cell_type": "code",
   "execution_count": null,
   "metadata": {
    "editable": true
   },
   "outputs": [],
   "source": []
  },
  {
   "cell_type": "code",
   "execution_count": null,
   "metadata": {
    "editable": true
   },
   "outputs": [],
   "source": []
  },
  {
   "cell_type": "code",
   "execution_count": null,
   "metadata": {
    "editable": true
   },
   "outputs": [],
   "source": []
  },
  {
   "cell_type": "code",
   "execution_count": null,
   "metadata": {
    "editable": true
   },
   "outputs": [],
   "source": []
  }
 ],
 "metadata": {
  "kernelspec": {
   "display_name": "Python 3",
   "language": "python",
   "name": "python3"
  },
  "language_info": {
   "codemirror_mode": {
    "name": "ipython",
    "version": 3
   },
   "file_extension": ".py",
   "mimetype": "text/x-python",
   "name": "python",
   "nbconvert_exporter": "python",
   "pygments_lexer": "ipython3",
   "version": "3.6.3"
  }
 },
 "nbformat": 4,
 "nbformat_minor": 4
}
